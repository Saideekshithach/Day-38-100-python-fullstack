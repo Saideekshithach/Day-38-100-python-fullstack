{
 "cells": [
  {
   "cell_type": "code",
   "execution_count": 3,
   "id": "c589353c-6f14-4b46-9791-9efda1042e87",
   "metadata": {},
   "outputs": [],
   "source": [
    "#pip install numpy"
   ]
  },
  {
   "cell_type": "code",
   "execution_count": 4,
   "id": "99c57e8d-9948-40c5-ac18-591a10da8642",
   "metadata": {},
   "outputs": [],
   "source": [
    "import numpy as np"
   ]
  },
  {
   "cell_type": "code",
   "execution_count": 5,
   "id": "1313dee4-4a1f-4620-9a83-7af9a2430797",
   "metadata": {},
   "outputs": [
    {
     "name": "stdout",
     "output_type": "stream",
     "text": [
      "60\n",
      "<class 'numpy.ndarray'>\n",
      "0\n"
     ]
    }
   ],
   "source": [
    "a=np.array(60)\n",
    "print(a)\n",
    "print(type(a))\n",
    "print(a.ndim)"
   ]
  },
  {
   "cell_type": "code",
   "execution_count": 6,
   "id": "f31b9b88-594d-49b4-8f04-bdf30f09ffa1",
   "metadata": {},
   "outputs": [
    {
     "name": "stdout",
     "output_type": "stream",
     "text": [
      "[1 2 3]\n",
      "<class 'numpy.ndarray'>\n",
      "1\n"
     ]
    }
   ],
   "source": [
    "b=np.array([1,2,3])\n",
    "print(b)\n",
    "print(type(b))\n",
    "print(b.ndim)"
   ]
  },
  {
   "cell_type": "code",
   "execution_count": 7,
   "id": "84044dec-54e6-448c-a76c-debb1dbdc34b",
   "metadata": {},
   "outputs": [
    {
     "name": "stdout",
     "output_type": "stream",
     "text": [
      "[[1 2 4 5]\n",
      " [6 7 8 9]]\n",
      "<class 'numpy.ndarray'>\n",
      "2\n"
     ]
    }
   ],
   "source": [
    "c=np.array([[1,2,4,5],[6,7,8,9]])\n",
    "print(c)\n",
    "print(type(c))\n",
    "print(c.ndim)"
   ]
  },
  {
   "cell_type": "code",
   "execution_count": 10,
   "id": "32e60e9b-57c7-4f7a-b7f4-25347b4ccfc6",
   "metadata": {},
   "outputs": [
    {
     "name": "stdout",
     "output_type": "stream",
     "text": [
      "[[[1 2 3]\n",
      "  [4 5 6]]\n",
      "\n",
      " [[7 8 9]\n",
      "  [3 7 9]]]\n",
      "<class 'numpy.ndarray'>\n",
      "3\n"
     ]
    }
   ],
   "source": [
    "d=np.array([[[1,2,3],[4,5,6]],\n",
    "            [[7,8,9],[3,7,9]]])\n",
    "print(d)\n",
    "print(type(d))\n",
    "print(d.ndim)"
   ]
  },
  {
   "cell_type": "code",
   "execution_count": 11,
   "id": "1b89e964-c82a-4958-9a53-56a37a9f4435",
   "metadata": {},
   "outputs": [
    {
     "name": "stdout",
     "output_type": "stream",
     "text": [
      "7\n"
     ]
    }
   ],
   "source": [
    "print(d[1][0][0])"
   ]
  },
  {
   "cell_type": "code",
   "execution_count": 12,
   "id": "9a818711-40c5-40cb-871f-8d54ebedf438",
   "metadata": {},
   "outputs": [
    {
     "name": "stdout",
     "output_type": "stream",
     "text": [
      "9\n"
     ]
    }
   ],
   "source": [
    "print(d[1][1][2])"
   ]
  },
  {
   "cell_type": "code",
   "execution_count": null,
   "id": "2a7a2c86-baa0-4527-9598-a8c3a6036a92",
   "metadata": {},
   "outputs": [],
   "source": [
    "#2 dimensions"
   ]
  },
  {
   "cell_type": "code",
   "execution_count": 13,
   "id": "20e54631-4469-468c-909d-04e624387e66",
   "metadata": {},
   "outputs": [
    {
     "name": "stdout",
     "output_type": "stream",
     "text": [
      "[[1 2 3 4]\n",
      " [5 6 7 8]]\n",
      "<class 'numpy.ndarray'>\n",
      "2\n"
     ]
    }
   ],
   "source": [
    "c=np.array([[1,2,3,4],[5,6,7,8]])\n",
    "print(c)\n",
    "print(type(c))\n",
    "print(c.ndim)\n"
   ]
  },
  {
   "cell_type": "code",
   "execution_count": null,
   "id": "a570a001-f5d6-45ae-bc36-3e17de8811c2",
   "metadata": {},
   "outputs": [],
   "source": [
    "#3 dimensions"
   ]
  },
  {
   "cell_type": "code",
   "execution_count": 14,
   "id": "3b62f7a9-4eca-4396-805c-464c4f032918",
   "metadata": {},
   "outputs": [
    {
     "name": "stdout",
     "output_type": "stream",
     "text": [
      "[[[1 2 3 4]\n",
      "  [5 6 7 8]]\n",
      "\n",
      " [[1 2 3 4]\n",
      "  [5 6 7 8]]]\n",
      "<class 'numpy.ndarray'>\n",
      "3\n"
     ]
    }
   ],
   "source": [
    "d=np.array([[[1,2,3,4],[5,6,7,8]],[[1,2,3,4],[5,6,7,8]]])\n",
    "print(d)\n",
    "print(type(d))\n",
    "print(d.ndim)"
   ]
  },
  {
   "cell_type": "code",
   "execution_count": 17,
   "id": "dd6681fe-b402-4160-90ab-ef4d0a74130a",
   "metadata": {},
   "outputs": [
    {
     "name": "stdout",
     "output_type": "stream",
     "text": [
      "[11 12 13 14 15]\n",
      "3.0\n",
      "(5,)\n"
     ]
    }
   ],
   "source": [
    "arr=np.array([1,2,3,4,5])\n",
    "print(arr+10)\n",
    "print(arr.mean())\n",
    "print(arr.shape)"
   ]
  },
  {
   "cell_type": "code",
   "execution_count": null,
   "id": "50e40286-d870-4aa4-a30e-280ae2fc1e0a",
   "metadata": {},
   "outputs": [],
   "source": []
  }
 ],
 "metadata": {
  "kernelspec": {
   "display_name": "Python 3 (ipykernel)",
   "language": "python",
   "name": "python3"
  },
  "language_info": {
   "codemirror_mode": {
    "name": "ipython",
    "version": 3
   },
   "file_extension": ".py",
   "mimetype": "text/x-python",
   "name": "python",
   "nbconvert_exporter": "python",
   "pygments_lexer": "ipython3",
   "version": "3.11.9"
  }
 },
 "nbformat": 4,
 "nbformat_minor": 5
}
